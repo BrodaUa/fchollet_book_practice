{
 "cells": [
  {
   "cell_type": "markdown",
   "metadata": {},
   "source": [
    "# movie binary classification"
   ]
  },
  {
   "cell_type": "code",
   "execution_count": 1,
   "metadata": {},
   "outputs": [
    {
     "name": "stderr",
     "output_type": "stream",
     "text": [
      "/usr/local/lib/python3.6/dist-packages/h5py/__init__.py:36: FutureWarning: Conversion of the second argument of issubdtype from `float` to `np.floating` is deprecated. In future, it will be treated as `np.float64 == np.dtype(float).type`.\n",
      "  from ._conv import register_converters as _register_converters\n",
      "Using TensorFlow backend.\n"
     ]
    }
   ],
   "source": [
    "from keras.datasets import imdb\n",
    "\n",
    "(train_data, train_labels), (test_data, test_labels) = imdb.load_data(num_words=10000)"
   ]
  },
  {
   "cell_type": "code",
   "execution_count": 2,
   "metadata": {},
   "outputs": [
    {
     "data": {
      "text/plain": [
       "numpy.ndarray"
      ]
     },
     "execution_count": 2,
     "metadata": {},
     "output_type": "execute_result"
    }
   ],
   "source": [
    "type(train_data)"
   ]
  },
  {
   "cell_type": "code",
   "execution_count": 3,
   "metadata": {},
   "outputs": [
    {
     "data": {
      "text/plain": [
       "(25000,)"
      ]
     },
     "execution_count": 3,
     "metadata": {},
     "output_type": "execute_result"
    }
   ],
   "source": [
    "train_data.shape"
   ]
  },
  {
   "cell_type": "code",
   "execution_count": 4,
   "metadata": {},
   "outputs": [
    {
     "data": {
      "text/plain": [
       "[1, 14, 22, 16, 43, 530, 973, 1622, 1385, 65]"
      ]
     },
     "execution_count": 4,
     "metadata": {},
     "output_type": "execute_result"
    }
   ],
   "source": [
    "train_data[0][:10]"
   ]
  },
  {
   "cell_type": "code",
   "execution_count": 5,
   "metadata": {},
   "outputs": [],
   "source": [
    "word_index = imdb.get_word_index()\n",
    "reverse_word_index = dict([(value, key) for (key, value) in word_index.items()])\n",
    "decoded_review = ' '.join([reverse_word_index.get(i - 3, '?') for i in train_data[0]])"
   ]
  },
  {
   "cell_type": "code",
   "execution_count": 6,
   "metadata": {},
   "outputs": [
    {
     "data": {
      "text/plain": [
       "\"? this film was just brilliant casting location scenery story direction everyone's really suited the part they played and you could just imagine being there robert ? is an amazing actor and now the same being director ? father came from the same scottish island as myself so i loved the fact there was a real connection with this film the witty remarks throughout the film were great it was just brilliant so much that i bought the film as soon as it was released for ? and would recommend it to everyone to watch and the fly fishing was amazing really cried at the end it was so sad and you know what they say if you cry at a film it must have been good and this definitely was also ? to the two little boy's that played the ? of norman and paul they were just brilliant children are often left out of the ? list i think because the stars that play them all grown up are such a big profile for the whole film but these children are amazing and should be praised for what they have done don't you think the whole story was so lovely because it was true and was someone's life after all that was shared with us all\""
      ]
     },
     "execution_count": 6,
     "metadata": {},
     "output_type": "execute_result"
    }
   ],
   "source": [
    "decoded_review"
   ]
  },
  {
   "cell_type": "code",
   "execution_count": 7,
   "metadata": {},
   "outputs": [
    {
     "data": {
      "text/plain": [
       "dict"
      ]
     },
     "execution_count": 7,
     "metadata": {},
     "output_type": "execute_result"
    }
   ],
   "source": [
    "type(word_index)"
   ]
  },
  {
   "cell_type": "code",
   "execution_count": 8,
   "metadata": {},
   "outputs": [
    {
     "data": {
      "text/plain": [
       "88584"
      ]
     },
     "execution_count": 8,
     "metadata": {},
     "output_type": "execute_result"
    }
   ],
   "source": [
    "len(word_index)"
   ]
  },
  {
   "cell_type": "code",
   "execution_count": 9,
   "metadata": {},
   "outputs": [],
   "source": [
    "import numpy as np\n",
    "\n",
    "def vectorize_sequences(sequences, dim=10000):\n",
    "    result = np.zeros((len(sequences), dim))\n",
    "    for i, seq in enumerate(sequences):\n",
    "        result[i, seq] = 1\n",
    "    return result\n",
    "\n",
    "    x_train = vectorize_sequences(train_data)\n",
    "    x_test = vectorize_sequences(test_data)"
   ]
  },
  {
   "cell_type": "code",
   "execution_count": 10,
   "metadata": {},
   "outputs": [],
   "source": [
    "y_train = np.asarray(train_labels, dtype=np.float32)\n",
    "y_test = np.asarray(test_labels, dtype=np.float32)"
   ]
  },
  {
   "cell_type": "code",
   "execution_count": 11,
   "metadata": {},
   "outputs": [],
   "source": [
    "from keras.models import Sequential\n",
    "from keras.layers import Dense\n",
    "\n",
    "model = Sequential()\n",
    "model.add(Dense(16, activation='relu', input_shape=(10000,)))\n",
    "model.add(Dense(16, activation='relu'))\n",
    "model.add(Dense(1, activation='sigmoid'))"
   ]
  },
  {
   "cell_type": "code",
   "execution_count": 12,
   "metadata": {},
   "outputs": [],
   "source": [
    "from keras import optimizers\n",
    "from keras import losses\n",
    "from keras import metrics"
   ]
  },
  {
   "cell_type": "code",
   "execution_count": 13,
   "metadata": {},
   "outputs": [],
   "source": [
    "model.compile(optimizer=optimizers.Adam(), loss=losses.binary_crossentropy, metrics=[metrics.binary_accuracy])"
   ]
  },
  {
   "cell_type": "code",
   "execution_count": 14,
   "metadata": {},
   "outputs": [
    {
     "name": "stdout",
     "output_type": "stream",
     "text": [
      "Train on 17500 samples, validate on 7500 samples\n",
      "Epoch 1/20\n",
      "17500/17500 [==============================] - 1s 67us/step - loss: 0.5389 - binary_accuracy: 0.7803 - val_loss: 0.3728 - val_binary_accuracy: 0.8660\n",
      "Epoch 2/20\n",
      "17500/17500 [==============================] - 1s 56us/step - loss: 0.2783 - binary_accuracy: 0.9046 - val_loss: 0.2783 - val_binary_accuracy: 0.8904\n",
      "Epoch 3/20\n",
      "17500/17500 [==============================] - 1s 56us/step - loss: 0.1894 - binary_accuracy: 0.9339 - val_loss: 0.2744 - val_binary_accuracy: 0.8891\n",
      "Epoch 4/20\n",
      "17500/17500 [==============================] - 1s 56us/step - loss: 0.1434 - binary_accuracy: 0.9552 - val_loss: 0.2840 - val_binary_accuracy: 0.8857\n",
      "Epoch 5/20\n",
      "17500/17500 [==============================] - 1s 56us/step - loss: 0.1125 - binary_accuracy: 0.9659 - val_loss: 0.3082 - val_binary_accuracy: 0.8845\n",
      "Epoch 6/20\n",
      "17500/17500 [==============================] - 1s 56us/step - loss: 0.0870 - binary_accuracy: 0.9756 - val_loss: 0.3333 - val_binary_accuracy: 0.8813\n",
      "Epoch 7/20\n",
      "17500/17500 [==============================] - 1s 56us/step - loss: 0.0679 - binary_accuracy: 0.9835 - val_loss: 0.3695 - val_binary_accuracy: 0.8763\n",
      "Epoch 8/20\n",
      "17500/17500 [==============================] - 1s 56us/step - loss: 0.0515 - binary_accuracy: 0.9893 - val_loss: 0.4136 - val_binary_accuracy: 0.8761\n",
      "Epoch 9/20\n",
      "17500/17500 [==============================] - 1s 56us/step - loss: 0.0386 - binary_accuracy: 0.9935 - val_loss: 0.4581 - val_binary_accuracy: 0.8719\n",
      "Epoch 10/20\n",
      "17500/17500 [==============================] - 1s 56us/step - loss: 0.0287 - binary_accuracy: 0.9957 - val_loss: 0.5004 - val_binary_accuracy: 0.8709\n",
      "Epoch 11/20\n",
      "17500/17500 [==============================] - 1s 56us/step - loss: 0.0210 - binary_accuracy: 0.9981 - val_loss: 0.5405 - val_binary_accuracy: 0.8695\n",
      "Epoch 12/20\n",
      "17500/17500 [==============================] - 1s 56us/step - loss: 0.0156 - binary_accuracy: 0.9990 - val_loss: 0.5808 - val_binary_accuracy: 0.8688\n",
      "Epoch 13/20\n",
      "17500/17500 [==============================] - 1s 56us/step - loss: 0.0119 - binary_accuracy: 0.9995 - val_loss: 0.6137 - val_binary_accuracy: 0.8673\n",
      "Epoch 14/20\n",
      "17500/17500 [==============================] - 1s 56us/step - loss: 0.0094 - binary_accuracy: 0.9997 - val_loss: 0.6447 - val_binary_accuracy: 0.8665\n",
      "Epoch 15/20\n",
      "17500/17500 [==============================] - 1s 56us/step - loss: 0.0076 - binary_accuracy: 0.9998 - val_loss: 0.6743 - val_binary_accuracy: 0.8660\n",
      "Epoch 16/20\n",
      "17500/17500 [==============================] - 1s 56us/step - loss: 0.0062 - binary_accuracy: 0.9999 - val_loss: 0.7010 - val_binary_accuracy: 0.8660\n",
      "Epoch 17/20\n",
      "17500/17500 [==============================] - 1s 56us/step - loss: 0.0049 - binary_accuracy: 0.9999 - val_loss: 0.7241 - val_binary_accuracy: 0.8656\n",
      "Epoch 18/20\n",
      "17500/17500 [==============================] - 1s 56us/step - loss: 0.0040 - binary_accuracy: 0.9999 - val_loss: 0.7450 - val_binary_accuracy: 0.8648\n",
      "Epoch 19/20\n",
      "17500/17500 [==============================] - 1s 56us/step - loss: 0.0033 - binary_accuracy: 0.9999 - val_loss: 0.7653 - val_binary_accuracy: 0.8636\n",
      "Epoch 20/20\n",
      "17500/17500 [==============================] - 1s 56us/step - loss: 0.0030 - binary_accuracy: 0.9999 - val_loss: 0.7817 - val_binary_accuracy: 0.8632\n"
     ]
    }
   ],
   "source": [
    "history = model.fit(x=x_train, y=y_train, batch_size=512, epochs=20, validation_split=0.3)"
   ]
  },
  {
   "cell_type": "code",
   "execution_count": 15,
   "metadata": {},
   "outputs": [
    {
     "data": {
      "text/plain": [
       "dict_keys(['val_loss', 'val_binary_accuracy', 'loss', 'binary_accuracy'])"
      ]
     },
     "execution_count": 15,
     "metadata": {},
     "output_type": "execute_result"
    }
   ],
   "source": [
    "history.history.keys()"
   ]
  },
  {
   "cell_type": "code",
   "execution_count": 27,
   "metadata": {},
   "outputs": [
    {
     "data": {
      "image/png": "[encoded data removed]",
      "text/plain": [
       "<Figure size 720x360 with 2 Axes>"
      ]
     },
     "metadata": {},
     "output_type": "display_data"
    }
   ],
   "source": [
    "import matplotlib.pyplot as plt \n",
    "\n",
    "history_dict = history.history\n",
    "epochs = range(1, len(history_dict['loss'])+1)\n",
    "\n",
    "fig, (ax1, ax2) = plt.subplots(1,2,figsize=(10,5))\n",
    "\n",
    "ax1.plot(epochs, history_dict['loss'], 'bo', label='training loss')\n",
    "ax1.plot(epochs, history_dict['val_loss'], 'b', label='validation loss')\n",
    "ax1.set_xlabel('Epochs')\n",
    "ax1.set_ylabel('Loss')\n",
    "ax1.legend()\n",
    "\n",
    "ax2.plot(epochs, history_dict['binary_accuracy'], 'bo', label='training accuracy')\n",
    "ax2.plot(epochs, history_dict['val_binary_accuracy'], 'b', label='validation accuracy')\n",
    "ax2.set_xlabel('Epochs')\n",
    "ax2.set_ylabel('Accuracy')\n",
    "ax2.legend()\n",
    "\n",
    "\n",
    "plt.show()"
   ]
  },
  {
   "cell_type": "code",
   "execution_count": 31,
   "metadata": {},
   "outputs": [
    {
     "name": "stdout",
     "output_type": "stream",
     "text": [
      "Train on 17500 samples, validate on 7500 samples\n",
      "Epoch 1/10\n",
      "17500/17500 [==============================] - 2s 123us/step - loss: 0.3864 - acc: 0.8386 - val_loss: 0.2792 - val_acc: 0.8912\n",
      "Epoch 2/10\n",
      "17500/17500 [==============================] - 2s 101us/step - loss: 0.1802 - acc: 0.9344 - val_loss: 0.3038 - val_acc: 0.8865\n",
      "Epoch 3/10\n",
      "17500/17500 [==============================] - 2s 108us/step - loss: 0.1127 - acc: 0.9623 - val_loss: 0.3574 - val_acc: 0.8816\n",
      "Epoch 4/10\n",
      "17500/17500 [==============================] - 2s 102us/step - loss: 0.0709 - acc: 0.9770 - val_loss: 0.4467 - val_acc: 0.8739\n",
      "Epoch 5/10\n",
      "17500/17500 [==============================] - 2s 108us/step - loss: 0.0431 - acc: 0.9873 - val_loss: 0.5287 - val_acc: 0.8699\n",
      "Epoch 6/10\n",
      "17500/17500 [==============================] - 2s 102us/step - loss: 0.0252 - acc: 0.9934 - val_loss: 0.6196 - val_acc: 0.8711\n",
      "Epoch 7/10\n",
      "17500/17500 [==============================] - 2s 108us/step - loss: 0.0112 - acc: 0.9980 - val_loss: 0.7220 - val_acc: 0.8668\n",
      "Epoch 8/10\n",
      "17500/17500 [==============================] - 2s 101us/step - loss: 0.0051 - acc: 0.9993 - val_loss: 0.7728 - val_acc: 0.8639\n",
      "Epoch 9/10\n",
      "17500/17500 [==============================] - 2s 108us/step - loss: 0.0023 - acc: 0.9997 - val_loss: 0.8163 - val_acc: 0.8649\n",
      "Epoch 10/10\n",
      "17500/17500 [==============================] - 2s 102us/step - loss: 6.9763e-04 - acc: 1.0000 - val_loss: 0.8573 - val_acc: 0.8653\n"
     ]
    },
    {
     "data": {
      "text/plain": [
       "<keras.callbacks.History at 0x7fb7d19dd358>"
      ]
     },
     "execution_count": 31,
     "metadata": {},
     "output_type": "execute_result"
    }
   ],
   "source": [
    "model2 = Sequential()\n",
    "model2.add(Dense(64, activation='relu', input_shape=(10000,)))\n",
    "model2.add(Dense(32, activation='relu'))\n",
    "model2.add(Dense(16, activation='relu'))\n",
    "model2.add(Dense(1, activation='sigmoid'))\n",
    "\n",
    "model2.compile(optimizer='adam', loss='binary_crossentropy',metrics=['accuracy'])\n",
    "model2.fit(x_train, y_train, epochs=10, batch_size=256, validation_split=0.3)"
   ]
  },
  {
   "cell_type": "code",
   "execution_count": 32,
   "metadata": {},
   "outputs": [
    {
     "name": "stdout",
     "output_type": "stream",
     "text": [
      "25000/25000 [==============================] - 2s 74us/step\n"
     ]
    },
    {
     "data": {
      "text/plain": [
       "[0.9444229762992263, 0.85008]"
      ]
     },
     "execution_count": 32,
     "metadata": {},
     "output_type": "execute_result"
    }
   ],
   "source": [
    "model2.evaluate(x_test, y_test)"
   ]
  },
  {
   "cell_type": "markdown",
   "metadata": {},
   "source": [
    "# news multiclass classification"
   ]
  },
  {
   "cell_type": "code",
   "execution_count": 34,
   "metadata": {},
   "outputs": [
    {
     "name": "stdout",
     "output_type": "stream",
     "text": [
      "Downloading data from https://s3.amazonaws.com/text-datasets/reuters.npz\n",
      "2113536/2110848 [==============================] - 2s 1us/step\n"
     ]
    }
   ],
   "source": [
    "from keras.datasets import reuters\n",
    "\n",
    "(train_data, train_labels), (test_data, test_labels) = reuters.load_data(num_words=10000)"
   ]
  },
  {
   "cell_type": "code",
   "execution_count": 35,
   "metadata": {},
   "outputs": [
    {
     "name": "stdout",
     "output_type": "stream",
     "text": [
      "8982 2246\n"
     ]
    }
   ],
   "source": [
    "print(len(train_data),len(test_data))"
   ]
  },
  {
   "cell_type": "code",
   "execution_count": 36,
   "metadata": {},
   "outputs": [
    {
     "name": "stdout",
     "output_type": "stream",
     "text": [
      "Downloading data from https://s3.amazonaws.com/text-datasets/reuters_word_index.json\n",
      "557056/550378 [==============================] - 1s 2us/step\n"
     ]
    }
   ],
   "source": [
    "word_index = reuters.get_word_index()\n",
    "reverse_word_index = dict([(value, key) for (key, value) in word_index.items()])\n",
    "decoded_newswire = ' '.join([reverse_word_index.get(i - 3, '?') for i in train_data[0]])"
   ]
  },
  {
   "cell_type": "code",
   "execution_count": 37,
   "metadata": {},
   "outputs": [
    {
     "data": {
      "text/plain": [
       "'? ? ? said as a result of its december acquisition of space co it expects earnings per share in 1987 of 1 15 to 1 30 dlrs per share up from 70 cts in 1986 the company said pretax net should rise to nine to 10 mln dlrs from six mln dlrs in 1986 and rental operation revenues to 19 to 22 mln dlrs from 12 5 mln dlrs it said cash flow per share this year should be 2 50 to three dlrs reuter 3'"
      ]
     },
     "execution_count": 37,
     "metadata": {},
     "output_type": "execute_result"
    }
   ],
   "source": [
    "decoded_newswire"
   ]
  },
  {
   "cell_type": "code",
   "execution_count": 38,
   "metadata": {},
   "outputs": [],
   "source": [
    "from keras.utils.np_utils import to_categorical"
   ]
  },
  {
   "cell_type": "code",
   "execution_count": 39,
   "metadata": {},
   "outputs": [],
   "source": [
    "x_train = vectorize_sequences(train_data)\n",
    "x_test = vectorize_sequences(test_data)\n",
    "\n",
    "y_train = to_categorical(train_labels)\n",
    "y_test = to_categorical(test_labels)"
   ]
  },
  {
   "cell_type": "code",
   "execution_count": 65,
   "metadata": {},
   "outputs": [],
   "source": [
    "model_reuters = Sequential()\n",
    "model_reuters.add(Dense(128, activation='relu', input_shape=(10000,)))\n",
    "#model_reuters.add(Dense(32, activation='relu'))\n",
    "model_reuters.add(Dense(46, activation='softmax'))"
   ]
  },
  {
   "cell_type": "code",
   "execution_count": 66,
   "metadata": {},
   "outputs": [],
   "source": [
    "model_reuters.compile(optimizer='adam', loss='categorical_crossentropy', metrics=['acc'])"
   ]
  },
  {
   "cell_type": "code",
   "execution_count": 67,
   "metadata": {},
   "outputs": [
    {
     "name": "stdout",
     "output_type": "stream",
     "text": [
      "Train on 8083 samples, validate on 899 samples\n",
      "Epoch 1/20\n",
      "8083/8083 [==============================] - 1s 139us/step - loss: 2.7938 - acc: 0.5022 - val_loss: 1.9868 - val_acc: 0.6218\n",
      "Epoch 2/20\n",
      "8083/8083 [==============================] - 1s 104us/step - loss: 1.4627 - acc: 0.7063 - val_loss: 1.4330 - val_acc: 0.7097\n",
      "Epoch 3/20\n",
      "8083/8083 [==============================] - 1s 103us/step - loss: 0.9806 - acc: 0.8008 - val_loss: 1.1873 - val_acc: 0.7519\n",
      "Epoch 4/20\n",
      "8083/8083 [==============================] - 1s 103us/step - loss: 0.7205 - acc: 0.8590 - val_loss: 1.0639 - val_acc: 0.7831\n",
      "Epoch 5/20\n",
      "8083/8083 [==============================] - 1s 103us/step - loss: 0.5415 - acc: 0.8961 - val_loss: 0.9930 - val_acc: 0.7864\n",
      "Epoch 6/20\n",
      "8083/8083 [==============================] - 1s 103us/step - loss: 0.4210 - acc: 0.9191 - val_loss: 0.9484 - val_acc: 0.7953\n",
      "Epoch 7/20\n",
      "8083/8083 [==============================] - 1s 104us/step - loss: 0.3351 - acc: 0.9321 - val_loss: 0.9283 - val_acc: 0.8020\n",
      "Epoch 8/20\n",
      "8083/8083 [==============================] - 1s 103us/step - loss: 0.2721 - acc: 0.9435 - val_loss: 0.9097 - val_acc: 0.8020\n",
      "Epoch 9/20\n",
      "8083/8083 [==============================] - 1s 102us/step - loss: 0.2273 - acc: 0.9494 - val_loss: 0.9079 - val_acc: 0.8076\n",
      "Epoch 10/20\n",
      "8083/8083 [==============================] - 1s 104us/step - loss: 0.1959 - acc: 0.9542 - val_loss: 0.9069 - val_acc: 0.8109\n",
      "Epoch 11/20\n",
      "8083/8083 [==============================] - 1s 103us/step - loss: 0.1694 - acc: 0.9567 - val_loss: 0.9033 - val_acc: 0.8031\n",
      "Epoch 12/20\n",
      "8083/8083 [==============================] - 1s 103us/step - loss: 0.1529 - acc: 0.9581 - val_loss: 0.9188 - val_acc: 0.8076\n",
      "Epoch 13/20\n",
      "8083/8083 [==============================] - 1s 104us/step - loss: 0.1369 - acc: 0.9604 - val_loss: 0.9285 - val_acc: 0.8042\n",
      "Epoch 14/20\n",
      "8083/8083 [==============================] - 1s 103us/step - loss: 0.1247 - acc: 0.9615 - val_loss: 0.9316 - val_acc: 0.8031\n",
      "Epoch 15/20\n",
      "8083/8083 [==============================] - 1s 103us/step - loss: 0.1148 - acc: 0.9614 - val_loss: 0.9412 - val_acc: 0.8053\n",
      "Epoch 16/20\n",
      "8083/8083 [==============================] - 1s 103us/step - loss: 0.1073 - acc: 0.9631 - val_loss: 0.9562 - val_acc: 0.7998\n",
      "Epoch 17/20\n",
      "8083/8083 [==============================] - 1s 103us/step - loss: 0.1047 - acc: 0.9619 - val_loss: 0.9612 - val_acc: 0.7987\n",
      "Epoch 18/20\n",
      "8083/8083 [==============================] - 1s 103us/step - loss: 0.0988 - acc: 0.9624 - val_loss: 0.9800 - val_acc: 0.7998\n",
      "Epoch 19/20\n",
      "8083/8083 [==============================] - 1s 103us/step - loss: 0.0970 - acc: 0.9612 - val_loss: 0.9751 - val_acc: 0.8009\n",
      "Epoch 20/20\n",
      "8083/8083 [==============================] - 1s 104us/step - loss: 0.0927 - acc: 0.9634 - val_loss: 0.9919 - val_acc: 0.8009\n"
     ]
    }
   ],
   "source": [
    "history_reuters = model_reuters.fit(x_train, y_train, batch_size=512, epochs=20, validation_split=0.1)"
   ]
  },
  {
   "cell_type": "code",
   "execution_count": 68,
   "metadata": {},
   "outputs": [
    {
     "data": {
      "image/png": "[encoded data removed]",
      "text/plain": [
       "<Figure size 720x360 with 2 Axes>"
      ]
     },
     "metadata": {},
     "output_type": "display_data"
    }
   ],
   "source": [
    "history_dict = history_reuters.history\n",
    "\n",
    "fig, (ax1, ax2) = plt.subplots(1,2,figsize=(10,5))\n",
    "\n",
    "ax1.plot(epochs, history_dict['loss'], 'bo', label = \"training loss\")\n",
    "ax1.plot(epochs, history_dict['val_loss'], 'b', label = \"validation loss\")\n",
    "ax1.set_xlabel('epochs')\n",
    "ax1.set_ylabel('loss')\n",
    "ax1.legend()\n",
    "\n",
    "ax2.plot(epochs, history_dict['acc'], 'bo', label = \"training accuracy\")\n",
    "ax2.plot(epochs, history_dict['val_acc'], 'b', label = \"validation accuracy\")\n",
    "ax2.set_xlabel('epochs')\n",
    "ax2.set_ylabel('loss')\n",
    "ax2.legend()\n",
    "\n",
    "plt.show()\n"
   ]
  },
  {
   "cell_type": "code",
   "execution_count": 69,
   "metadata": {},
   "outputs": [
    {
     "name": "stdout",
     "output_type": "stream",
     "text": [
      "2246/2246 [==============================] - 0s 112us/step\n"
     ]
    },
    {
     "data": {
      "text/plain": [
       "[0.9546326777814014, 0.8018699910952805]"
      ]
     },
     "execution_count": 69,
     "metadata": {},
     "output_type": "execute_result"
    }
   ],
   "source": [
    "model_reuters.evaluate(x_test, y_test)"
   ]
  },
  {
   "cell_type": "code",
   "execution_count": 53,
   "metadata": {},
   "outputs": [],
   "source": [
    "pred = model_reuters.predict(x_test)"
   ]
  },
  {
   "cell_type": "code",
   "execution_count": 55,
   "metadata": {},
   "outputs": [
    {
     "name": "stdout",
     "output_type": "stream",
     "text": [
      "1.0000002\n",
      "3\n",
      "0.9701007\n"
     ]
    }
   ],
   "source": [
    "print(np.sum(pred[0]))\n",
    "print(np.argmax(pred[0]))\n",
    "print(np.max(pred[0]))"
   ]
  },
  {
   "cell_type": "code",
   "execution_count": 70,
   "metadata": {},
   "outputs": [
    {
     "name": "stdout",
     "output_type": "stream",
     "text": [
      "Downloading data from https://s3.amazonaws.com/keras-datasets/boston_housing.npz\n",
      "57344/57026 [==============================] - 0s 5us/step\n"
     ]
    }
   ],
   "source": [
    "from keras.datasets import boston_housing\n",
    "(train_data, train_targets), (test_data, test_targets) = boston_housing.load_data()"
   ]
  },
  {
   "cell_type": "code",
   "execution_count": 71,
   "metadata": {},
   "outputs": [
    {
     "data": {
      "text/plain": [
       "(404, 13)"
      ]
     },
     "execution_count": 71,
     "metadata": {},
     "output_type": "execute_result"
    }
   ],
   "source": [
    "train_data.shape"
   ]
  },
  {
   "cell_type": "code",
   "execution_count": 72,
   "metadata": {},
   "outputs": [
    {
     "data": {
      "text/plain": [
       "(102, 13)"
      ]
     },
     "execution_count": 72,
     "metadata": {},
     "output_type": "execute_result"
    }
   ],
   "source": [
    "test_data.shape"
   ]
  },
  {
   "cell_type": "code",
   "execution_count": 74,
   "metadata": {},
   "outputs": [],
   "source": [
    "mean = train_data.mean(axis=0)\n",
    "std = train_data.std(axis=0)\n",
    "\n",
    "train_data_norm = (train_data - mean)/std\n",
    "test_data_norm = (test_data - mean)/std"
   ]
  },
  {
   "cell_type": "code",
   "execution_count": 90,
   "metadata": {},
   "outputs": [],
   "source": [
    "def build_model(input, output, layers = [64,64], activation='relu'):\n",
    "    \n",
    "    input_layer, input_dim = input\n",
    "    \n",
    "    model = Sequential()\n",
    "    model.add(Dense(input_layer, activation=activation, input_shape=(input_dim,)))\n",
    "    for l in layers:\n",
    "        model.add(Dense(l, activation=activation))\n",
    "    model.add(Dense(output))\n",
    "    \n",
    "    model.compile(optimizer='adam', loss='mse', metrics=['mae'])\n",
    "    \n",
    "    return model"
   ]
  },
  {
   "cell_type": "code",
   "execution_count": 126,
   "metadata": {},
   "outputs": [],
   "source": [
    "k = 4\n",
    "num_val_smaples = len(train_data_norm)//k\n",
    "perf_history=[]\n",
    "\n",
    "idx = np.random.permutation(range(train_data_norm.shape[0]))\n",
    "\n",
    "for i in range(k):\n",
    "    val = idx[i*num_val_smaples:(i+1)*num_val_smaples]\n",
    "    #y_val = train_targets[k*num_val_smaples:(k+1)*num_val_smaples]\n",
    "    \n",
    "    train = np.concatenate((idx[:i*num_val_smaples], idx[(i+1)*num_val_smaples:]))\n",
    "    #y_temp = np.vstack((train_targets[:k*num_val_smaples], train_targets[(k+1)*num_val_smaples:]))\n",
    "    \n",
    "    model_news = build_model(input = (64, len(train_data_norm[0])), output=1)\n",
    "    history = model_news.fit(\n",
    "        x=train_data_norm[train], y=train_targets[train], \n",
    "        validation_data=(train_data_norm[val], train_targets[val]),\n",
    "        epochs = 100, \n",
    "        batch_size=1,\n",
    "        verbose=0)\n",
    "    perf_history.append(history.history)"
   ]
  },
  {
   "cell_type": "code",
   "execution_count": 127,
   "metadata": {},
   "outputs": [
    {
     "data": {
      "text/plain": [
       "4"
      ]
     },
     "execution_count": 127,
     "metadata": {},
     "output_type": "execute_result"
    }
   ],
   "source": [
    "len(perf_history)"
   ]
  },
  {
   "cell_type": "code",
   "execution_count": 128,
   "metadata": {},
   "outputs": [
    {
     "data": {
      "text/plain": [
       "dict_keys(['val_loss', 'val_mean_absolute_error', 'loss', 'mean_absolute_error'])"
      ]
     },
     "execution_count": 128,
     "metadata": {},
     "output_type": "execute_result"
    }
   ],
   "source": [
    "perf_history[0].keys()"
   ]
  },
  {
   "cell_type": "code",
   "execution_count": 129,
   "metadata": {},
   "outputs": [
    {
     "ename": "ValueError",
     "evalue": "cannot copy sequence with size 100 to array axis with dimension 500",
     "output_type": "error",
     "traceback": [
      "\u001b[0;31m---------------------------------------------------------------------------\u001b[0m",
      "\u001b[0;31mValueError\u001b[0m                                Traceback (most recent call last)",
      "\u001b[0;32m<ipython-input-129-391507781fcd>\u001b[0m in \u001b[0;36m<module>\u001b[0;34m()\u001b[0m\n\u001b[1;32m      2\u001b[0m \u001b[0;34m\u001b[0m\u001b[0m\n\u001b[1;32m      3\u001b[0m \u001b[0;32mfor\u001b[0m \u001b[0midx\u001b[0m\u001b[0;34m,\u001b[0m \u001b[0mhist\u001b[0m \u001b[0;32min\u001b[0m \u001b[0menumerate\u001b[0m\u001b[0;34m(\u001b[0m\u001b[0mperf_history\u001b[0m\u001b[0;34m)\u001b[0m\u001b[0;34m:\u001b[0m\u001b[0;34m\u001b[0m\u001b[0m\n\u001b[0;32m----> 4\u001b[0;31m     \u001b[0mmae_hist\u001b[0m\u001b[0;34m[\u001b[0m\u001b[0midx\u001b[0m\u001b[0;34m]\u001b[0m\u001b[0;34m=\u001b[0m\u001b[0mhist\u001b[0m\u001b[0;34m[\u001b[0m\u001b[0;34m'mean_absolute_error'\u001b[0m\u001b[0;34m]\u001b[0m\u001b[0;34m\u001b[0m\u001b[0m\n\u001b[0m\u001b[1;32m      5\u001b[0m \u001b[0;34m\u001b[0m\u001b[0m\n\u001b[1;32m      6\u001b[0m \u001b[0mavg_mae_hist\u001b[0m \u001b[0;34m=\u001b[0m \u001b[0mmae_hist\u001b[0m\u001b[0;34m.\u001b[0m\u001b[0mmean\u001b[0m\u001b[0;34m(\u001b[0m\u001b[0maxis\u001b[0m\u001b[0;34m=\u001b[0m\u001b[0;36m0\u001b[0m\u001b[0;34m)\u001b[0m\u001b[0;34m\u001b[0m\u001b[0m\n",
      "\u001b[0;31mValueError\u001b[0m: cannot copy sequence with size 100 to array axis with dimension 500"
     ]
    }
   ],
   "source": [
    "mae_hist = np.zeros((4,500))\n",
    "\n",
    "for idx, hist in enumerate(perf_history):\n",
    "    mae_hist[idx]=hist['mean_absolute_error']\n",
    "\n",
    "avg_mae_hist = mae_hist.mean(axis=0)"
   ]
  },
  {
   "cell_type": "code",
   "execution_count": null,
   "metadata": {},
   "outputs": [],
   "source": [
    "mae_hist[:,:5]"
   ]
  },
  {
   "cell_type": "code",
   "execution_count": null,
   "metadata": {},
   "outputs": [],
   "source": [
    "avg_mae_hist[:5]"
   ]
  },
  {
   "cell_type": "code",
   "execution_count": null,
   "metadata": {},
   "outputs": [],
   "source": [
    "plt.plot(range(1, len(avg_mae_hist) + 1), avg_mae_hist)\n",
    "plt.xlabel('Epochs')\n",
    "plt.ylabel('Validation MAE')\n",
    "plt.show()"
   ]
  },
  {
   "cell_type": "code",
   "execution_count": null,
   "metadata": {},
   "outputs": [],
   "source": [
    "mae_val_hist = np.zeros((4,500))\n",
    "\n",
    "for idx, hist in enumerate(perf_history):\n",
    "    mae_val_hist[idx]=hist['val_mean_absolute_error']\n",
    "\n",
    "avg_mae_val_hist = mae_val_hist.mean(axis=0)\n",
    "\n",
    "plt.plot(range(1, len(avg_mae_val_hist) + 1), avg_mae_val_hist)\n",
    "plt.xlabel('Epochs')\n",
    "plt.ylabel('Validation MAE')\n",
    "plt.show()"
   ]
  },
  {
   "cell_type": "code",
   "execution_count": null,
   "metadata": {},
   "outputs": [],
   "source": [
    "def smoothing(data, factor=0.9):\n",
    "    smoothed_result = [data[0]]\n",
    "    \n",
    "    for p in data[1:]:\n",
    "        prev = smoothed_result[-1]\n",
    "        smoothed_result.append(factor*prev + (1-factor)*p)\n",
    "    return smoothed_result"
   ]
  },
  {
   "cell_type": "code",
   "execution_count": null,
   "metadata": {},
   "outputs": [],
   "source": [
    "smoothed_avg_mae = smoothing(avg_mae_val_hist[5:])\n",
    "\n",
    "plt.plot(range(1, len(smoothed_avg_mae) + 1), smoothed_avg_mae)\n",
    "plt.xlabel('Epochs')\n",
    "plt.ylabel('Validation MAE')\n",
    "plt.show()"
   ]
  },
  {
   "cell_type": "code",
   "execution_count": null,
   "metadata": {},
   "outputs": [],
   "source": [
    "model.evaluate(test_data_norm, test_targets)"
   ]
  },
  {
   "cell_type": "code",
   "execution_count": null,
   "metadata": {},
   "outputs": [],
   "source": []
  }
 ],
 "metadata": {
  "kernelspec": {
   "display_name": "Python 3",
   "language": "python",
   "name": "python3"
  },
  "language_info": {
   "codemirror_mode": {
    "name": "ipython",
    "version": 3
   },
   "file_extension": ".py",
   "mimetype": "text/x-python",
   "name": "python",
   "nbconvert_exporter": "python",
   "pygments_lexer": "ipython3",
   "version": "3.6.3"
  }
 },
 "nbformat": 4,
 "nbformat_minor": 2
}
