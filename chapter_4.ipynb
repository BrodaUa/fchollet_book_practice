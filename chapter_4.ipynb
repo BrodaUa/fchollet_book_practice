{
 "cells": [
  {
   "cell_type": "markdown",
   "metadata": {},
   "source": [
    "# evaluating machine learning models"
   ]
  },
  {
   "cell_type": "markdown",
   "metadata": {},
   "source": [
    "### split data into:\n",
    "    1) training\n",
    "    2) validation\n",
    "    3) split"
   ]
  },
  {
   "cell_type": "markdown",
   "metadata": {},
   "source": [
    "### hold-out valdiaiton"
   ]
  },
  {
   "cell_type": "code",
   "execution_count": 1,
   "metadata": {},
   "outputs": [
    {
     "name": "stderr",
     "output_type": "stream",
     "text": [
      "/usr/local/lib/python3.6/dist-packages/h5py/__init__.py:36: FutureWarning: Conversion of the second argument of issubdtype from `float` to `np.floating` is deprecated. In future, it will be treated as `np.float64 == np.dtype(float).type`.\n",
      "  from ._conv import register_converters as _register_converters\n",
      "Using TensorFlow backend.\n"
     ]
    }
   ],
   "source": [
    "from keras.models import Sequential\n",
    "from keras.layers import Dense\n",
    "import numpy as np"
   ]
  },
  {
   "cell_type": "code",
   "execution_count": null,
   "metadata": {},
   "outputs": [],
   "source": [
    "x_data = np.random.rand(20000,100)*100\n",
    "y_data = np.random.randint(0,2,size=(20000, 1))\n",
    "data = np.hstack((x_data, y_data))\n",
    "\n",
    "num_val_data = 3000\n",
    "\n",
    "np.random.shuffle(data)\n",
    "\n",
    "test_data = data[:num_val_data]\n",
    "val_data = data[num_val_data:2*num_val_data]\n",
    "train_data = data[2*num_val_data:]\n",
    "\n",
    "def get_model():\n",
    "    model = Sequential()\n",
    "    model.add(Dense(32, activation='relu', input_shape=(100,)))\n",
    "    model.add(Dense(1, activation='sigmoid'))\n",
    "    model.compile(optimizer='adam', loss='binary_crossentropy', metrics=['acc'])\n",
    "    return model\n",
    "\n",
    "get_model().fit(\n",
    "    train_data[:,:100], train_data[:,-1],epochs=3,batch_size=1024,validation_data=(val_data[:,:100], val_data[:,-1]))"
   ]
  },
  {
   "cell_type": "code",
   "execution_count": null,
   "metadata": {},
   "outputs": [],
   "source": [
    "#optimize model on validation set\n",
    "#once hyperparams tuning done, join sets and train# the final model\n",
    "\n",
    "data = np.concatenate((train_data, val_data))\n",
    "\n",
    "get_model().fit(\n",
    "    data[:,:100], data[:,-1], epochs=2, batch_size=1024, validation_data=(test_data[:,:100], test_data[:,-1]))"
   ]
  },
  {
   "cell_type": "markdown",
   "metadata": {},
   "source": [
    "### k-fold + iterative k-fold validation"
   ]
  },
  {
   "cell_type": "code",
   "execution_count": null,
   "metadata": {},
   "outputs": [],
   "source": [
    "x_data = np.random.rand(20000,100)*100\n",
    "y_data = np.random.randint(0,2,size=(20000, 1))\n",
    "data = np.hstack((x_data, y_data))\n",
    "\n",
    "#setup k-disjoint sets for training/cross-validation\n",
    "k = 5\n",
    "hist_acc = []\n",
    "num_val_data = data.shape[0] // k \n",
    "\n",
    "np.random.shuffle(data)\n",
    "\n",
    "test_data = data[:num_val_data]\n",
    "data = data[num_val_data:]\n",
    "\n",
    "#evaluate k times\n",
    "for i in range(k):\n",
    "    print('K-fold #', i)\n",
    "    val_data = data[i*num_val_data:(i+1)*num_val_data]\n",
    "    train_data = np.concatenate((data[:i*num_val_data], data[(i+1)*num_val_data:]))\n",
    "    \n",
    "    hist = get_model().fit(\n",
    "        train_data[:,:100], train_data[:,-1],epochs=1,batch_size=1024,validation_data=(val_data[:,:100], val_data[:,-1]))\n",
    "    hist_acc.append(hist.history['acc'])\n",
    "\n",
    "np.mean(hist_acc)"
   ]
  },
  {
   "cell_type": "markdown",
   "metadata": {},
   "source": [
    "# under- & overfitting"
   ]
  },
  {
   "cell_type": "markdown",
   "metadata": {},
   "source": [
    "### levarge network capacity (size)"
   ]
  },
  {
   "cell_type": "code",
   "execution_count": 2,
   "metadata": {},
   "outputs": [],
   "source": [
    "from keras.datasets import imdb"
   ]
  },
  {
   "cell_type": "code",
   "execution_count": 3,
   "metadata": {},
   "outputs": [],
   "source": [
    "(x_train, y_train), (x_test, y_test) = imdb.load_data(num_words=10000)"
   ]
  },
  {
   "cell_type": "code",
   "execution_count": 4,
   "metadata": {},
   "outputs": [],
   "source": [
    "def vectorize_sequences(sequences, dim=10000):\n",
    "    result = np.zeros((len(sequences), dim))\n",
    "    for i, seq in enumerate(sequences):\n",
    "        result[i, seq] = 1\n",
    "    return result"
   ]
  },
  {
   "cell_type": "code",
   "execution_count": 5,
   "metadata": {},
   "outputs": [
    {
     "name": "stdout",
     "output_type": "stream",
     "text": [
      "(25000,) (25000,)\n",
      "(25000,) (25000,)\n"
     ]
    }
   ],
   "source": [
    "print(x_train.shape, y_train.shape)\n",
    "print(x_test.shape, y_test.shape)"
   ]
  },
  {
   "cell_type": "code",
   "execution_count": 6,
   "metadata": {},
   "outputs": [],
   "source": [
    "x_train = vectorize_sequences(x_train)\n",
    "x_test = vectorize_sequences(x_test)"
   ]
  },
  {
   "cell_type": "code",
   "execution_count": 7,
   "metadata": {},
   "outputs": [
    {
     "name": "stdout",
     "output_type": "stream",
     "text": [
      "(25000, 10000)\n",
      "(25000, 10000)\n"
     ]
    }
   ],
   "source": [
    "print(x_train.shape)\n",
    "print(x_test.shape)"
   ]
  },
  {
   "cell_type": "code",
   "execution_count": 21,
   "metadata": {},
   "outputs": [],
   "source": [
    "history = []"
   ]
  },
  {
   "cell_type": "code",
   "execution_count": 22,
   "metadata": {},
   "outputs": [
    {
     "name": "stdout",
     "output_type": "stream",
     "text": [
      "25000/25000 [==============================] - 2s 74us/step\n",
      "[1.001278562080264, 0.85264]\n"
     ]
    }
   ],
   "source": [
    "initial_model = Sequential()\n",
    "initial_model.add(Dense(64, activation='relu', input_shape=(10000,)))\n",
    "initial_model.add(Dense(64, activation='relu'))\n",
    "initial_model.add(Dense(1, activation='sigmoid'))\n",
    "initial_model.compile(optimizer='adam', loss='binary_crossentropy', metrics=['acc'])\n",
    "\n",
    "initial_hist = initial_model.fit(x_train, y_train, epochs=20, batch_size=512, validation_split=0.2, verbose=0)\n",
    "print(initial_model.evaluate(x_test, y_test))\n",
    "\n",
    "history.append(initial_hist.history)"
   ]
  },
  {
   "cell_type": "code",
   "execution_count": 23,
   "metadata": {},
   "outputs": [
    {
     "name": "stdout",
     "output_type": "stream",
     "text": [
      "25000/25000 [==============================] - 1s 46us/step\n",
      "[0.46026311126947406, 0.86468]\n"
     ]
    }
   ],
   "source": [
    "short_model = Sequential()\n",
    "short_model.add(Dense(4, activation='relu', input_shape=(10000,)))\n",
    "short_model.add(Dense(4, activation='relu'))\n",
    "short_model.add(Dense(1, activation='sigmoid'))\n",
    "short_model.compile(optimizer='adam', loss='binary_crossentropy', metrics=['acc'])\n",
    "\n",
    "short_hist = short_model.fit(x_train, y_train, epochs=20, batch_size=512,  validation_split=0.2,verbose=0)\n",
    "print(short_model.evaluate(x_test, y_test))\n",
    "\n",
    "history.append(short_hist.history)"
   ]
  },
  {
   "cell_type": "code",
   "execution_count": 24,
   "metadata": {},
   "outputs": [
    {
     "name": "stdout",
     "output_type": "stream",
     "text": [
      "25000/25000 [==============================] - 3s 139us/step\n",
      "[0.8832368401676416, 0.86856]\n"
     ]
    }
   ],
   "source": [
    "big_model = Sequential()\n",
    "big_model.add(Dense(512, activation='relu', input_shape=(10000,)))\n",
    "big_model.add(Dense(512, activation='relu'))\n",
    "big_model.add(Dense(1, activation='sigmoid'))\n",
    "big_model.compile(optimizer='adam', loss='binary_crossentropy', metrics=['acc'])\n",
    "\n",
    "big_hist = big_model.fit(x_train, y_train, epochs=20, batch_size=512,  validation_split=0.2, verbose=0)\n",
    "print(big_model.evaluate(x_test, y_test))\n",
    "\n",
    "history.append(big_hist.history)"
   ]
  },
  {
   "cell_type": "code",
   "execution_count": 25,
   "metadata": {},
   "outputs": [
    {
     "data": {
      "text/plain": [
       "dict_keys(['val_loss', 'val_acc', 'loss', 'acc'])"
      ]
     },
     "execution_count": 25,
     "metadata": {},
     "output_type": "execute_result"
    }
   ],
   "source": [
    "history[0].keys()"
   ]
  },
  {
   "cell_type": "code",
   "execution_count": 39,
   "metadata": {},
   "outputs": [
    {
     "data": {
      "image/png": "[encoded data removed]",
      "text/plain": [
       "<Figure size 432x288 with 1 Axes>"
      ]
     },
     "metadata": {},
     "output_type": "display_data"
    }
   ],
   "source": [
    "import matplotlib.pyplot as plt\n",
    "\n",
    "epochs = range(1,21)\n",
    "\n",
    "plt.plot(epochs, history[0]['val_loss'], '^', label=\"initial\")\n",
    "plt.plot(epochs, history[1]['val_loss'], 'o', label=\"short\")\n",
    "plt.plot(epochs, history[2]['val_loss'], 'x', label=\"bog\")\n",
    "plt.xlabel('epochs')\n",
    "plt.ylabel('loss')\n",
    "plt.legend()\n",
    "\n",
    "plt.show()"
   ]
  },
  {
   "cell_type": "markdown",
   "metadata": {},
   "source": [
    "### L2 regulariation"
   ]
  },
  {
   "cell_type": "code",
   "execution_count": 27,
   "metadata": {},
   "outputs": [],
   "source": [
    "from keras import regularizers\n",
    "\n",
    "model_reg = Sequential()\n",
    "model_reg.add(Dense(16, kernel_regularizer=regularizers.l2(0.001), activation='relu', input_shape=(10000,)))\n",
    "model_reg.add(Dense(16, kernel_regularizer=regularizers.l2(0.001), activation='relu'))\n",
    "model_reg.add(Dense(1, activation='sigmoid'))\n",
    "model_reg.compile(optimizer='adam', loss='binary_crossentropy',metrics=['acc'])\n",
    "\n",
    "hist_reg = model_reg.fit(x_train, y_train, batch_size=512, epochs=20,  validation_split=0.2, verbose=0)"
   ]
  },
  {
   "cell_type": "code",
   "execution_count": 38,
   "metadata": {},
   "outputs": [
    {
     "name": "stdout",
     "output_type": "stream",
     "text": [
      "25000/25000 [==============================] - 1s 57us/step\n"
     ]
    },
    {
     "data": {
      "text/plain": [
       "[0.5722689803791046, 0.85216]"
      ]
     },
     "execution_count": 38,
     "metadata": {},
     "output_type": "execute_result"
    }
   ],
   "source": [
    "model_reg.evaluate(x_test, y_test)"
   ]
  },
  {
   "cell_type": "code",
   "execution_count": 40,
   "metadata": {},
   "outputs": [
    {
     "data": {
      "image/png": "[encoded data removed]",
      "text/plain": [
       "<Figure size 432x288 with 1 Axes>"
      ]
     },
     "metadata": {},
     "output_type": "display_data"
    }
   ],
   "source": [
    "plt.plot(epochs, history[0]['val_loss'], '^', label=\"initial\")\n",
    "plt.plot(epochs, hist_reg.history['val_loss'], 'o', label=\"regularized\")\n",
    "plt.xlabel('epochs')\n",
    "plt.ylabel('val_loss')\n",
    "plt.legend()\n",
    "\n",
    "plt.show()"
   ]
  },
  {
   "cell_type": "markdown",
   "metadata": {},
   "source": [
    "### Dropout"
   ]
  },
  {
   "cell_type": "code",
   "execution_count": 31,
   "metadata": {},
   "outputs": [],
   "source": [
    "from keras.layers import Dropout"
   ]
  },
  {
   "cell_type": "code",
   "execution_count": 35,
   "metadata": {},
   "outputs": [],
   "source": [
    "model_drop = Sequential()\n",
    "model_drop.add(Dense(16, activation='relu', input_shape=(10000,)))\n",
    "model_drop.add(Dropout(0.8))\n",
    "model_drop.add(Dense(16, activation='relu', input_shape=(10000,)))\n",
    "model_drop.add(Dropout(0.8))\n",
    "model_drop.add(Dense(1, activation='sigmoid'))\n",
    "\n",
    "model_drop.compile(optimizer='adam', loss='binary_crossentropy', metrics=['acc'])\n",
    "hist_drop = model_drop.fit(x_train, y_train, batch_size=512, epochs=20, validation_split=0.2, verbose=0)"
   ]
  },
  {
   "cell_type": "code",
   "execution_count": 37,
   "metadata": {},
   "outputs": [
    {
     "name": "stdout",
     "output_type": "stream",
     "text": [
      "25000/25000 [==============================] - 1s 54us/step\n"
     ]
    },
    {
     "data": {
      "text/plain": [
       "[0.37420669471740725, 0.87972]"
      ]
     },
     "execution_count": 37,
     "metadata": {},
     "output_type": "execute_result"
    }
   ],
   "source": [
    "model_drop.evaluate(x_test, y_test)"
   ]
  },
  {
   "cell_type": "code",
   "execution_count": 41,
   "metadata": {},
   "outputs": [
    {
     "data": {
      "image/png": "[encoded data removed]",
      "text/plain": [
       "<Figure size 432x288 with 1 Axes>"
      ]
     },
     "metadata": {},
     "output_type": "display_data"
    }
   ],
   "source": [
    "plt.plot(epochs, history[0]['val_loss'], '^', label=\"initial\")\n",
    "plt.plot(epochs, hist_reg.history['val_loss'], 'o', label=\"regularized\")\n",
    "plt.plot(epochs, hist_drop.history['val_loss'], 'x', label=\"dropout\")\n",
    "plt.xlabel('epochs')\n",
    "plt.ylabel('val_loss')\n",
    "plt.legend()\n",
    "\n",
    "plt.show()"
   ]
  },
  {
   "cell_type": "code",
   "execution_count": null,
   "metadata": {},
   "outputs": [],
   "source": []
  }
 ],
 "metadata": {
  "kernelspec": {
   "display_name": "Python 3",
   "language": "python",
   "name": "python3"
  },
  "language_info": {
   "codemirror_mode": {
    "name": "ipython",
    "version": 3
   },
   "file_extension": ".py",
   "mimetype": "text/x-python",
   "name": "python",
   "nbconvert_exporter": "python",
   "pygments_lexer": "ipython3",
   "version": "3.6.3"
  }
 },
 "nbformat": 4,
 "nbformat_minor": 2
}
